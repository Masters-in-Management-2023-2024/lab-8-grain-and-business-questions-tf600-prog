{
  "nbformat": 4,
  "nbformat_minor": 0,
  "metadata": {
    "colab": {
      "provenance": []
    },
    "kernelspec": {
      "name": "python3",
      "display_name": "Python 3"
    },
    "language_info": {
      "name": "python"
    }
  },
  "cells": [
    {
      "cell_type": "code",
      "execution_count": 1,
      "metadata": {
        "colab": {
          "base_uri": "https://localhost:8080/"
        },
        "id": "_mF6BIynLY8T",
        "outputId": "8c083c68-4ce2-4fc0-8f09-228f170b0ee4"
      },
      "outputs": [
        {
          "output_type": "stream",
          "name": "stdout",
          "text": [
            "Loading diamonds dataset...\n",
            "Dataset loaded successfully!\n"
          ]
        }
      ],
      "source": [
        "import polars as pl\n",
        "\n",
        "# Load the diamonds dataset\n",
        "print(\"Loading diamonds dataset...\")\n",
        "df = pl.read_csv('https://raw.githubusercontent.com/pycaret/pycaret/master/datasets/diamond.csv')\n",
        "print(\"Dataset loaded successfully!\")"
      ]
    },
    {
      "cell_type": "code",
      "source": [
        "#Question 1\n",
        "\n",
        "print(\"Inventory size (scale of data)\")\n",
        "print(f\"- Rows (diamonds): {df.height}\")\n",
        "print(f\"- Columns (fields): {df.width}\")"
      ],
      "metadata": {
        "colab": {
          "base_uri": "https://localhost:8080/"
        },
        "id": "Vm6OgOpmLufs",
        "outputId": "f3ab763f-d8d4-4952-f9e1-88dc2c92c2b0"
      },
      "execution_count": 8,
      "outputs": [
        {
          "output_type": "stream",
          "name": "stdout",
          "text": [
            "Inventory size (scale of data)\n",
            "- Rows (diamonds): 6000\n",
            "- Columns (fields): 8\n"
          ]
        }
      ]
    },
    {
      "cell_type": "code",
      "source": [
        "#Question 2\n",
        "print(\"Fields tracked for each diamond (name: dtype)\")\n",
        "for name, dtype in df.schema.items():\n",
        "    print(f\"- {name}: {dtype}\")"
      ],
      "metadata": {
        "colab": {
          "base_uri": "https://localhost:8080/"
        },
        "id": "eTG_Cu5nMfv0",
        "outputId": "af8ef83c-8a16-41dc-8c3c-c7d4eecfee10"
      },
      "execution_count": 7,
      "outputs": [
        {
          "output_type": "stream",
          "name": "stdout",
          "text": [
            "Fields tracked for each diamond (name: dtype)\n",
            "- Carat Weight: Float64\n",
            "- Cut: String\n",
            "- Color: String\n",
            "- Clarity: String\n",
            "- Polish: String\n",
            "- Symmetry: String\n",
            "- Report: String\n",
            "- Price: Int64\n"
          ]
        }
      ]
    },
    {
      "cell_type": "code",
      "source": [
        "#Question 3\n",
        "print(\"Business grain of a row\")\n",
        "print(\"Each row represents: one diamond in inventory with its characteristics \"\n",
        "      \"(e.g., carat, cut, color, clarity, dimensions) and its price.\")"
      ],
      "metadata": {
        "colab": {
          "base_uri": "https://localhost:8080/"
        },
        "id": "wWtYQzTDMjjU",
        "outputId": "2ae01727-c905-40c8-c428-dba5ca927b3b"
      },
      "execution_count": 6,
      "outputs": [
        {
          "output_type": "stream",
          "name": "stdout",
          "text": [
            "Business grain of a row\n",
            "Each row represents: one diamond in inventory with its characteristics (e.g., carat, cut, color, clarity, dimensions) and its price.\n"
          ]
        }
      ]
    },
    {
      "cell_type": "code",
      "source": [
        "#Question 4\n",
        "print(\" Total carats in inventory\")\n",
        "total_carats = df.select(pl.col(\"Carat Weight\").sum().alias(\"total_carats\")).item()\n",
        "print(f\"- Total carats: {total_carats:.4f}\")"
      ],
      "metadata": {
        "colab": {
          "base_uri": "https://localhost:8080/"
        },
        "id": "6ODvqs3tM8Pe",
        "outputId": "fe3b630c-3011-4747-a72d-77381f4ffb2b"
      },
      "execution_count": 11,
      "outputs": [
        {
          "output_type": "stream",
          "name": "stdout",
          "text": [
            " Total carats in inventory\n",
            "- Total carats: 8007.1200\n"
          ]
        }
      ]
    },
    {
      "cell_type": "code",
      "source": [
        "#Question 5\n",
        "print(\"Variety of cuts (distinct)\")\n",
        "cuts_list = df.get_column(\"Cut\").unique().sort().to_list()\n",
        "print(f\"- Number of distinct cuts: {len(cuts_list)}\")\n",
        "print(f\"- Cuts: {cuts_list}\")"
      ],
      "metadata": {
        "colab": {
          "base_uri": "https://localhost:8080/"
        },
        "id": "dIGZIcicNIT1",
        "outputId": "c49b83e1-4a9a-4bd1-df43-cd1ef72152bf"
      },
      "execution_count": 13,
      "outputs": [
        {
          "output_type": "stream",
          "name": "stdout",
          "text": [
            "Variety of cuts (distinct)\n",
            "- Number of distinct cuts: 5\n",
            "- Cuts: ['Fair', 'Good', 'Ideal', 'Signature-Ideal', 'Very Good']\n"
          ]
        }
      ]
    }
  ]
}